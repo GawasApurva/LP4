{
 "cells": [
  {
   "cell_type": "code",
   "execution_count": 1,
   "id": "colored-account",
   "metadata": {},
   "outputs": [],
   "source": [
    "import numpy"
   ]
  },
  {
   "cell_type": "code",
   "execution_count": 2,
   "id": "answering-franklin",
   "metadata": {},
   "outputs": [],
   "source": [
    "def cal_pop_fitness(equation_inputs, pop):\n",
    "    # Calculating the fitness value of each solution in the current population.\n",
    "    # The fitness function caulcuates the sum of products between each input and its corresponding weight.\n",
    "    fitness = numpy.sum(pop*equation_inputs, axis=1)\n",
    "    return fitness"
   ]
  },
  {
   "cell_type": "code",
   "execution_count": 3,
   "id": "difficult-reliance",
   "metadata": {},
   "outputs": [],
   "source": [
    "def select_mating_pool(pop, fitness, num_parents):\n",
    "    # Selecting the best individuals in the current generation as parents for producing the offspring of the next generation.\n",
    "    parents = numpy.empty((num_parents, pop.shape[1]))\n",
    "    for parent_num in range(num_parents):\n",
    "        max_fitness_idx = numpy.where(fitness == numpy.max(fitness))\n",
    "        max_fitness_idx = max_fitness_idx[0][0]\n",
    "        parents[parent_num, :] = pop[max_fitness_idx, :]\n",
    "        fitness[max_fitness_idx] = -99999999999\n",
    "    return parents"
   ]
  },
  {
   "cell_type": "code",
   "execution_count": 4,
   "id": "following-haven",
   "metadata": {},
   "outputs": [],
   "source": [
    "def crossover(parents, offspring_size):\n",
    "    offspring = numpy.empty(offspring_size)\n",
    "    # The point at which crossover takes place between two parents. Usually it is at the center.\n",
    "    crossover_point = numpy.uint8(offspring_size[1]/2)\n",
    "\n",
    "    for k in range(offspring_size[0]):\n",
    "        # Index of the first parent to mate.\n",
    "        parent1_idx = k%parents.shape[0]\n",
    "        # Index of the second parent to mate.\n",
    "        parent2_idx = (k+1)%parents.shape[0]\n",
    "        # The new offspring will have its first half of its genes taken from the first parent.\n",
    "        offspring[k, 0:crossover_point] = parents[parent1_idx, 0:crossover_point]\n",
    "        # The new offspring will have its second half of its genes taken from the second parent.\n",
    "        offspring[k, crossover_point:] = parents[parent2_idx, crossover_point:]\n",
    "    return offspring"
   ]
  },
  {
   "cell_type": "code",
   "execution_count": 5,
   "id": "choice-reasoning",
   "metadata": {},
   "outputs": [],
   "source": [
    "def mutation(offspring_crossover):\n",
    "    # Mutation changes a single gene in each offspring randomly.\n",
    "    for idx in range(offspring_crossover.shape[0]):\n",
    "        # The random value to be added to the gene.\n",
    "        random_value = numpy.random.uniform(-1.0, 1.0, 1)\n",
    "        offspring_crossover[idx, 4] = offspring_crossover[idx, 4] + random_value\n",
    "    return offspring_crossover"
   ]
  },
  {
   "cell_type": "code",
   "execution_count": 11,
   "id": "national-deficit",
   "metadata": {},
   "outputs": [],
   "source": [
    "# Inputs of the equation.\n",
    "equation_inputs = [4,-2,3.5,5,-11,-4.7]\n",
    "\n",
    "# Number of the weights we are looking to optimize.\n",
    "num_weights = 6\n",
    "\n",
    "\"\"\"\n",
    "Genetic algorithm parameters:\n",
    "    Mating pool size\n",
    "    Population size\n",
    "\"\"\"\n",
    "sol_per_pop = 8\n",
    "num_parents_mating = 4"
   ]
  },
  {
   "cell_type": "code",
   "execution_count": 12,
   "id": "friendly-superior",
   "metadata": {},
   "outputs": [],
   "source": [
    "# Defining the population size.\n",
    "# The population will have sol_per_pop chromosome where each chromosome has num_weights genes.\n",
    "pop_size = (sol_per_pop,num_weights) "
   ]
  },
  {
   "cell_type": "code",
   "execution_count": 13,
   "id": "designing-burner",
   "metadata": {},
   "outputs": [
    {
     "name": "stdout",
     "output_type": "stream",
     "text": [
      "[[-1.0468133   0.40023236 -2.40371356  1.74377671  0.88016318 -3.6241827 ]\n",
      " [ 2.11198553  2.47938845  0.68806781  1.17797051  0.4074285  -1.3461995 ]\n",
      " [-2.18064226 -3.98830864 -0.40041838 -0.76319955  2.15288246 -2.29012487]\n",
      " [ 3.8568017  -1.48299349  2.33560053  0.27147509 -0.83590856  0.4334214 ]\n",
      " [-1.35737105  0.90403876  2.1925174   1.8344854  -2.81130544 -2.38289254]\n",
      " [-3.58192008  2.91725726  0.54977895  3.03201971  1.03198915 -1.59130146]\n",
      " [ 0.6801786   2.93103623 -0.54010573  3.32311348 -2.54004858 -2.45065836]\n",
      " [ 1.10662555 -1.53517317 -2.02204031 -3.96555534  3.97112888  2.1092782 ]]\n"
     ]
    }
   ],
   "source": [
    "#Creating the initial population.\n",
    "new_population = numpy.random.uniform(low=-4.0, high=4.0, size=pop_size)\n",
    "print(new_population)"
   ]
  },
  {
   "cell_type": "code",
   "execution_count": 14,
   "id": "bronze-conjunction",
   "metadata": {},
   "outputs": [
    {
     "name": "stdout",
     "output_type": "stream",
     "text": [
      "Generation :  0\n",
      "Best result :  56.50163256488645\n",
      "Generation :  1\n",
      "Best result :  61.86697069483192\n",
      "Generation :  2\n",
      "Best result :  68.5022132798091\n",
      "Generation :  3\n",
      "Best result :  68.5022132798091\n",
      "Generation :  4\n",
      "Best result :  69.90126297984114\n"
     ]
    }
   ],
   "source": [
    "num_generations = 5\n",
    "for generation in range(num_generations):\n",
    "    print(\"Generation : \", generation)\n",
    "    # Measing the fitness of each chromosome in the population.\n",
    "    fitness = cal_pop_fitness(equation_inputs, new_population)\n",
    "\n",
    "    # Selecting the best parents in the population for mating.\n",
    "    parents = select_mating_pool(new_population, fitness, \n",
    "                                      num_parents_mating)\n",
    "\n",
    "    # Generating next generation using crossover.\n",
    "    offspring_crossover = crossover(parents,\n",
    "                                       offspring_size=(pop_size[0]-parents.shape[0], num_weights))\n",
    "\n",
    "    # Adding some variations to the offsrping using mutation.\n",
    "    offspring_mutation = mutation(offspring_crossover)\n",
    "\n",
    "    # Creating the new population based on the parents and offspring.\n",
    "    new_population[0:parents.shape[0], :] = parents\n",
    "    new_population[parents.shape[0]:, :] = offspring_mutation\n",
    "\n",
    "    # The best result in the current iteration.\n",
    "    print(\"Best result : \", numpy.max(numpy.sum(new_population*equation_inputs, axis=1)))"
   ]
  },
  {
   "cell_type": "code",
   "execution_count": 15,
   "id": "respiratory-ridge",
   "metadata": {},
   "outputs": [
    {
     "name": "stdout",
     "output_type": "stream",
     "text": [
      "Best solution :  [[[ 2.11198553  2.47938845  0.68806781  1.8344854  -3.96653077\n",
      "   -2.38289254]]]\n",
      "Best solution fitness :  [69.90126298]\n"
     ]
    }
   ],
   "source": [
    "# Getting the best solution after iterating finishing all generations.\n",
    "#At first, the fitness is calculated for each solution in the final generation.\n",
    "fitness = cal_pop_fitness(equation_inputs, new_population)\n",
    "\n",
    "# Then return the index of that solution corresponding to the best fitness.\n",
    "best_match_idx = numpy.where(fitness == numpy.max(fitness))\n",
    "\n",
    "print(\"Best solution : \", new_population[best_match_idx, :])\n",
    "print(\"Best solution fitness : \", fitness[best_match_idx])"
   ]
  },
  {
   "cell_type": "code",
   "execution_count": null,
   "id": "protected-september",
   "metadata": {},
   "outputs": [],
   "source": []
  }
 ],
 "metadata": {
  "kernelspec": {
   "display_name": "Python 3",
   "language": "python",
   "name": "python3"
  },
  "language_info": {
   "codemirror_mode": {
    "name": "ipython",
    "version": 3
   },
   "file_extension": ".py",
   "mimetype": "text/x-python",
   "name": "python",
   "nbconvert_exporter": "python",
   "pygments_lexer": "ipython3",
   "version": "3.9.1"
  }
 },
 "nbformat": 4,
 "nbformat_minor": 5
}
