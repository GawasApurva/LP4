{
 "cells": [
  {
   "cell_type": "code",
   "execution_count": 1,
   "id": "adjusted-fluid",
   "metadata": {},
   "outputs": [],
   "source": [
    "import random\n",
    "import numpy as np "
   ]
  },
  {
   "cell_type": "code",
   "execution_count": 2,
   "id": "adult-variation",
   "metadata": {},
   "outputs": [],
   "source": [
    "W = 0.5\n",
    "c1 = 2\n",
    "c2 = 2 \n",
    "target = 1"
   ]
  },
  {
   "cell_type": "code",
   "execution_count": 3,
   "id": "undefined-thickness",
   "metadata": {},
   "outputs": [],
   "source": [
    "n_iterations = 50\n",
    "target_error = 1e-6\n",
    "n_particles = 30"
   ]
  },
  {
   "cell_type": "code",
   "execution_count": 4,
   "id": "better-hierarchy",
   "metadata": {},
   "outputs": [],
   "source": [
    "def visualize(particle__):\n",
    "    x=[]\n",
    "    y=[]\n",
    "    for part in particle__:\n",
    "        x.append(part[0])\n",
    "        y.append(part[1])\n",
    "    import matplotlib.pyplot as plt\n",
    "    plt.scatter(x, y, label= \"stars\", color= \"green\",  marker= \"*\", s=30)\n",
    "    plt.show()"
   ]
  },
  {
   "cell_type": "code",
   "execution_count": 5,
   "id": "excellent-corruption",
   "metadata": {},
   "outputs": [],
   "source": [
    "def fitness_function(position):\n",
    "    return position[0]**2 + position[1]**2 + 1"
   ]
  },
  {
   "cell_type": "code",
   "execution_count": 6,
   "id": "introductory-thousand",
   "metadata": {},
   "outputs": [
    {
     "data": {
      "image/png": "[encoded data removed]",
      "text/plain": [
       "<Figure size 432x288 with 1 Axes>"
      ]
     },
     "metadata": {
      "needs_background": "light"
     },
     "output_type": "display_data"
    }
   ],
   "source": [
    "particle_position_vector = np.array([np.array([(-1) ** (bool(random.getrandbits(1))) * random.random()*50, (-1)**(bool(random.getrandbits(1))) * random.random()*50]) for _ in range(n_particles)])\n",
    "visualize(particle_position_vector)\n",
    "pbest_position = particle_position_vector\n",
    "pbest_fitness_value = np.array([float('inf') for _ in range(n_particles)])\n",
    "gbest_fitness_value = float('inf')\n",
    "gbest_position = np.array([float('inf'), float('inf')])"
   ]
  },
  {
   "cell_type": "code",
   "execution_count": 7,
   "id": "departmental-publicity",
   "metadata": {},
   "outputs": [],
   "source": [
    "velocity_vector = ([np.array([0, 0]) for _ in range(n_particles)])\n",
    "iteration = 0\n",
    "while iteration < n_iterations:\n",
    "    for i in range(n_particles):\n",
    "        fitness_cadidate = fitness_function(particle_position_vector[i])\n",
    "        if(pbest_fitness_value[i] > fitness_cadidate):\n",
    "            pbest_fitness_value[i] = fitness_cadidate\n",
    "            pbest_position[i] = particle_position_vector[i]\n",
    "        if(gbest_fitness_value > fitness_cadidate):\n",
    "            gbest_fitness_value = fitness_cadidate\n",
    "            gbest_position = particle_position_vector[i]\n",
    "    if(abs(gbest_fitness_value - target) < target_error):\n",
    "        break\n",
    "    for i in range(n_particles):\n",
    "        new_velocity = (W*velocity_vector[i]) + (c1*random.random()) * (pbest_position[i] - particle_position_vector[i]) + (c2*random.random()) * (gbest_position-particle_position_vector[i])\n",
    "        new_position = new_velocity + particle_position_vector[i]\n",
    "        particle_position_vector[i] = new_position\n",
    "    iteration = iteration + 1"
   ]
  },
  {
   "cell_type": "code",
   "execution_count": 8,
   "id": "pleasant-snake",
   "metadata": {},
   "outputs": [
    {
     "name": "stdout",
     "output_type": "stream",
     "text": [
      "The best position is  [-0.00050213  0.00045087] in iteration number  11\n"
     ]
    },
    {
     "data": {
      "image/png": "[encoded data removed]",
      "text/plain": [
       "<Figure size 432x288 with 1 Axes>"
      ]
     },
     "metadata": {
      "needs_background": "light"
     },
     "output_type": "display_data"
    }
   ],
   "source": [
    "print(\"The best position is \", gbest_position, \"in iteration number \", iteration)\n",
    "visualize(particle_position_vector)"
   ]
  },
  {
   "cell_type": "code",
   "execution_count": null,
   "id": "incorporated-meditation",
   "metadata": {},
   "outputs": [],
   "source": []
  }
 ],
 "metadata": {
  "kernelspec": {
   "display_name": "Python 3",
   "language": "python",
   "name": "python3"
  },
  "language_info": {
   "codemirror_mode": {
    "name": "ipython",
    "version": 3
   },
   "file_extension": ".py",
   "mimetype": "text/x-python",
   "name": "python",
   "nbconvert_exporter": "python",
   "pygments_lexer": "ipython3",
   "version": "3.9.1"
  }
 },
 "nbformat": 4,
 "nbformat_minor": 5
}
