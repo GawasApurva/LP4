{
 "cells": [
  {
   "cell_type": "markdown",
   "id": "accredited-redhead",
   "metadata": {},
   "source": [
    "## SCOA Assignment No : 01"
   ]
  },
  {
   "cell_type": "markdown",
   "id": "through-dynamics",
   "metadata": {},
   "source": [
    "#### Problem Statement : Implement Union, Intersection, Complement and Difference operations on fuzzy sets. Also create fuzzy relation by Cartesian product of any two fuzzy sets and perform max-min composition on any two fuzzy relations."
   ]
  },
  {
   "cell_type": "code",
   "execution_count": 11,
   "id": "comparative-distributor",
   "metadata": {},
   "outputs": [
    {
     "name": "stdout",
     "output_type": "stream",
     "text": [
      "The First Fuzzy Set is : {'a': 0.2, 'b': 0.3, 'c': 0.6, 'd': 0.6}\n",
      "The Second Fuzzy Set is : {'a': 0.9, 'b': 0.9, 'c': 0.4, 'd': 0.5}\n"
     ]
    }
   ],
   "source": [
    "A = dict()\n",
    "B = dict()\n",
    "Y = dict()\n",
    "\n",
    "A = {\"a\": 0.2, \"b\": 0.3, \"c\": 0.6, \"d\": 0.6}\n",
    "B = {\"a\": 0.9, \"b\": 0.9, \"c\": 0.4, \"d\": 0.5}\n",
    "\n",
    "print('The First Fuzzy Set is :', A)\n",
    "print('The Second Fuzzy Set is :', B)"
   ]
  },
  {
   "cell_type": "code",
   "execution_count": 4,
   "id": "curious-boulder",
   "metadata": {},
   "outputs": [
    {
     "name": "stdout",
     "output_type": "stream",
     "text": [
      "Fuzzy Set Union is : {'a': 0.9, 'b': 0.9, 'c': 0.6, 'd': 0.6}\n"
     ]
    }
   ],
   "source": [
    "# Union of Two Fuzzy Sets\n",
    "for A_key, B_key in zip(A, B):\n",
    "    A_value = A[A_key]\n",
    "    B_value = B[B_key]\n",
    "\n",
    "    if A_value > B_value:\n",
    "        Y[A_key] = A_value\n",
    "    else:\n",
    "        Y[B_key] = B_value\n",
    "        \n",
    "print('Fuzzy Set Union is :', Y)\n"
   ]
  },
  {
   "cell_type": "code",
   "execution_count": 7,
   "id": "similar-physiology",
   "metadata": {},
   "outputs": [
    {
     "name": "stdout",
     "output_type": "stream",
     "text": [
      "Fuzzy Set Intersection is : {'a': 0.2, 'b': 0.3, 'c': 0.4, 'd': 0.5}\n"
     ]
    }
   ],
   "source": [
    "# Intersection of Two Fuzzy Sets\n",
    "for A_key, B_key in zip(A, B):\n",
    "    A_value = A[A_key]\n",
    "    B_value = B[B_key]\n",
    "\n",
    "    if A_value < B_value:\n",
    "        Y[A_key] = A_value\n",
    "    else:\n",
    "        Y[B_key] = B_value\n",
    "print('Fuzzy Set Intersection is :', Y)\n"
   ]
  },
  {
   "cell_type": "code",
   "execution_count": 8,
   "id": "loose-guest",
   "metadata": {},
   "outputs": [
    {
     "name": "stdout",
     "output_type": "stream",
     "text": [
      "Complement of Fuzzy Set A is : {'a': 0.8, 'b': 0.7, 'c': 0.4, 'd': 0.4}\n",
      "Complement of Fuzzy Set B is : {'a': 0.09999999999999998, 'b': 0.09999999999999998, 'c': 0.6, 'd': 0.5}\n"
     ]
    }
   ],
   "source": [
    "# Complement of Fuzzy Sets\n",
    "for A_key in A:\n",
    "    Y[A_key]= 1-A[A_key]\n",
    "        \n",
    "print('Complement of Fuzzy Set A is :', Y)\n",
    "\n",
    "for B_key in B:\n",
    "    Y[B_key]= 1-B[B_key]\n",
    "        \n",
    "print('Complement of Fuzzy Set B is :', Y)"
   ]
  },
  {
   "cell_type": "code",
   "execution_count": 9,
   "id": "residential-parker",
   "metadata": {},
   "outputs": [
    {
     "name": "stdout",
     "output_type": "stream",
     "text": [
      "Fuzzy Set Difference is : {'a': 0.09999999999999998, 'b': 0.09999999999999998, 'c': 0.6, 'd': 0.5}\n"
     ]
    }
   ],
   "source": [
    "# Difference Between Two Fuzzy Sets\n",
    "for A_key, B_key in zip(A, B):\n",
    "    A_value = A[A_key]\n",
    "    B_value = B[B_key]\n",
    "    B_value = 1 - B_value\n",
    "\n",
    "    if A_value < B_value:\n",
    "        Y[A_key] = A_value\n",
    "    else:\n",
    "        Y[B_key] = B_value\n",
    "        \n",
    "print('Fuzzy Set Difference is :', Y)\n"
   ]
  },
  {
   "cell_type": "code",
   "execution_count": 15,
   "id": "listed-specialist",
   "metadata": {},
   "outputs": [
    {
     "name": "stdout",
     "output_type": "stream",
     "text": [
      "Cartesian Product is [[0.2 0.2 0.2 0.2]\n",
      " [0.3 0.3 0.3 0.3]\n",
      " [0.6 0.6 0.4 0.5]\n",
      " [0.6 0.6 0.4 0.5]] \n",
      "\n"
     ]
    }
   ],
   "source": [
    "# Cartesian product of Two Fuzzy Sets\n",
    "import numpy as np\n",
    "R = [[] for i in range(len(A))]\n",
    "i = 0\n",
    "for x in A:\n",
    "    for y in B:\n",
    "        R[i].append(min(A[x], B[y]))\n",
    "    i += 1\n",
    "print(\"Cartesian Product is\",np.array(R),\"\\n\") "
   ]
  },
  {
   "cell_type": "code",
   "execution_count": 4,
   "id": "bigger-drink",
   "metadata": {},
   "outputs": [
    {
     "name": "stdout",
     "output_type": "stream",
     "text": [
      "Enter number of rows of first relation (R1): 2\n",
      "Enter number of columns of first relation (R1): 2\n",
      "Enter the elments for R:\n",
      "0.6\n",
      "0.3\n",
      "0.2\n",
      "0.9\n",
      "Enter number of rows of second relation (R2): 2\n",
      "Enter number of columns of second relation (R2): 3\n",
      "Enter the elments for R:\n",
      "1\n",
      "0.5\n",
      "0.3\n",
      "0.8\n",
      "0.4\n",
      "0.7\n",
      "\n",
      "R1 = \n",
      "0.6 0.3 \n",
      "\n",
      "0.2 0.9 \n",
      "\n",
      "\n",
      "R2 = \n",
      "1.0 0.5 0.3 \n",
      "\n",
      "0.8 0.4 0.7 \n",
      "\n",
      "\n",
      "R1 composition R2 =\n",
      "0.6 0.5 0.3 \n",
      "\n",
      "0.8 0.4 0.7 \n",
      "\n"
     ]
    }
   ],
   "source": [
    "#max-min composition \n",
    "r1 = int(input(\"Enter number of rows of first relation (R1): \"))\n",
    "c1 = int(input(\"Enter number of columns of first relation (R1): \"))\n",
    "rel1=[[0 for i in range(c1)]for j in range(r1)]\n",
    "print(\"Enter the elments for R:\")\n",
    "for i in range(r1):\n",
    "    for j in range(c1):\n",
    "        rel1[i][j]=float(input())\n",
    "    \n",
    "r2 = int(input(\"Enter number of rows of second relation (R2): \"))\n",
    "c2 = int(input(\"Enter number of columns of second relation (R2): \"))\n",
    "rel2=[[0 for i in range(c2)]for j in range(r2)]\n",
    "print(\"Enter the elments for R:\")\n",
    "for i in range(r2):\n",
    "    for j in range(c2):\n",
    "        rel2[i][j]=float(input())\n",
    "    \n",
    "print(\"\\nR1 = \")\n",
    "for i in range(r1):\n",
    "    for j in range(c1):\n",
    "        print(rel1[i][j],end=\" \")\n",
    "    print(\"\\n\")\n",
    "\n",
    "print(\"\\nR2 = \")\n",
    "for i in range(r2):\n",
    "    for j in range(c2):\n",
    "        print(rel2[i][j],end=\" \")\n",
    "    print(\"\\n\")\n",
    "    \n",
    "    \n",
    "col=0\n",
    "comp=[]\n",
    "for i in range(r1):\n",
    "    comp.append([])\n",
    "    for j in range(c2):\n",
    "        l=[]\n",
    "        for k in range(r2):\n",
    "            l.append(min(rel1[i][k],rel2[k][j]))\n",
    "        comp[i].append(max(l))  \n",
    "    \n",
    "print(\"\\nR1 composition R2 =\")\n",
    "for i in range(r1):\n",
    "    for j in range(c2):\n",
    "        print(comp[i][j],end=\" \")\n",
    "    print(\"\\n\")\n"
   ]
  }
 ],
 "metadata": {
  "kernelspec": {
   "display_name": "Python 3",
   "language": "python",
   "name": "python3"
  },
  "language_info": {
   "codemirror_mode": {
    "name": "ipython",
    "version": 3
   },
   "file_extension": ".py",
   "mimetype": "text/x-python",
   "name": "python",
   "nbconvert_exporter": "python",
   "pygments_lexer": "ipython3",
   "version": "3.9.1"
  }
 },
 "nbformat": 4,
 "nbformat_minor": 5
}
